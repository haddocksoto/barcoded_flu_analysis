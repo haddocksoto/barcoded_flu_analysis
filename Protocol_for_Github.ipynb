{
 "cells": [
  {
   "cell_type": "markdown",
   "metadata": {},
   "source": [
    "## Tissue Homogenizations \n",
    "\n",
    "Tissues are homogenized to make a 10% weight by volume (w/v) suspension (or 5% or 20% w/v for smaller or larger organs, respectively) for virus titration and to extract viral RNA for detection of viral nucleic acids. Tissue samples should ideally only have one freeze/thaw cycle between harvest and processing. Ideally, our samples should be harvested, snap-frozen and stored at -80C until a later date, when they are thawed, homogenized, and titered in 1 day. Samples should be kept on wet ice or at 4C at all times.\n",
    "\n",
    "### Protocol: ###\n",
    "1. Prelabel cryotubes for each sample.\n",
    "2. Prepare a sample sheet to record sample IDs and organ weight to calculate the amount of medium needed to prepare a 10% (w/v) suspension.\n",
    "3. Autoclave homogenizer tips in autoclavable bags if needed.\n",
    "4. Organize tissues on wet ice starting with the samples anticipated to have the lowest virus titer and ending with the samples anticipated to have the highest titer of virus.\n",
    "5. Weigh each sample and record the weight on the pre-made spreadsheet.\n",
    "6. Add 1% streptomycin antibiotic to the L-15 and filter-sterilzed the media before use.\n",
    "7. Add L-15 tissue grinding medium to each tube; a minimum of 1.5 ml is needed. A 10% (w/v) suspension is adequate for most organs. For example, if a tissue weights 0.54g, add 5.4ml L-15 medium for 10% (w/v) suspension.\n",
    "8. Set up the Omni homogenizer and prepare beakers containing 10% bleach solution to disinfect tips. Also, prepare a 50-ml conical with 10% bleach solution.\n",
    "9. Place absorbent pads in the work area.\n",
    "10. Homogenize each organ using the tissue homogenizer. The amount of time needed to homogenize organs varies with the size and consistency of the tissue and the speed of the motor. \n",
    "11. Before removing the used tip from the grinder, immerse it in a 50-ml conical tube containing 10% bleach to disinfect.\n",
    "12. Remove the grinder tip and place it in a beaker containing 10% bleach. Put a new tip on the homogenizer and continue until all tissues are homogenized.\n",
    "13. Centrifuge the homogenized samples to pellet cellular debris 10 min at ~524 x g , 4C.\n",
    "14. Organize the cryotubes in racks and aliquote as needed.\n",
    "\n"
   ]
  },
  {
   "attachments": {},
   "cell_type": "markdown",
   "metadata": {},
   "source": [
    "## Viral RNA isolations \n",
    "\n",
    "Homogenized tissues were used for isolating RNA using the Maxwell RSC Viral Total Nucleic Acid Purification Kit\n",
    "\n",
    "### Protocol: ** \n",
    "1. Set a heat block to 56C.\n",
    "2. Perform Maxwell UV sanitation.\n",
    "3. Spin down samples for 10,000 rpg for 5 minutes at 4C to pellet tissue homogenate debris.\n",
    "4. Prepare lysis solution by mixing 30μl of proteinase K & 300μl of lysis buffer according to the number of samples (create a master mix).\n",
    "5. Label a 1.5 ml microcentrifuge tube per sample (including negative control).\n",
    "6. Aliquot 330μl lysis solution to each of the labeled microcentrifuge tubes.\n",
    "7. Add 300μl sample to the appropriate micro centrifuge tube with lysis solution.\n",
    "8. Add 300μl of water to the negative control.\n",
    "9. Mix samples by vortexing and spin down briefly.\n",
    "10. Incubate samples on 56C heat block for 10 minutes.\n",
    "11. Set up Maxwell by adding a sample cartridge, LEV plunger and an empty elution tube (provided in the Maxwell kit)\n",
    "12. Add 50μl of nuclease-free water to each elution tube\n",
    "13. After the 10 minute incubation, briefly spin down samples and transfer all the contents into well #1 of the Maxwell cartridge\n",
    "14. Run instrument using the viral nucleic acid extraction program\n",
    "\n",
    "**Perform these steps in a BL3 facility\n",
    "\n"
   ]
  },
  {
   "cell_type": "code",
   "execution_count": null,
   "metadata": {},
   "outputs": [],
   "source": []
  }
 ],
 "metadata": {
  "kernelspec": {
   "display_name": "Python 3",
   "language": "python",
   "name": "python3"
  },
  "language_info": {
   "codemirror_mode": {
    "name": "ipython",
    "version": 3
   },
   "file_extension": ".py",
   "mimetype": "text/x-python",
   "name": "python",
   "nbconvert_exporter": "python",
   "pygments_lexer": "ipython3",
   "version": "3.8.5"
  }
 },
 "nbformat": 4,
 "nbformat_minor": 4
}
